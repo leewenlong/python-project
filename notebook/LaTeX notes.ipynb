{
 "cells": [
  {
   "cell_type": "markdown",
   "metadata": {},
   "source": [
    "### LaTeX 公式简略笔记"
   ]
  },
  {
   "cell_type": "markdown",
   "metadata": {},
   "source": [
    "##### 1. 开始和结束用$或者\\(jupter中好像\\不生效),$$用于公式独占一行,如果用 \\begin{equation} 和 \\end{equation}，则公式除了独占一行还会自动被添加序号， 如何不想编号则使用 \\begin{equation*} 和 \\end{equation*}"
   ]
  },
  {
   "cell_type": "markdown",
   "metadata": {},
   "source": [
    "$x_1$ , $f(x)=ax + b$ , \\(x^y\\) , $$y=ax$$  \\begin{equation}y=ax+b\\end{equation}  \\begin{equation*}y=x^2\\end{equation*} "
   ]
  },
  {
   "cell_type": "markdown",
   "metadata": {},
   "source": [
    "##### 2. 上标(^)和下标（_）"
   ]
  },
  {
   "cell_type": "markdown",
   "metadata": {},
   "source": [
    "$x^2$ , $x^{x^2}$ , $x_a$ , $lim_{x=1}$"
   ]
  },
  {
   "cell_type": "markdown",
   "metadata": {},
   "source": [
    "##### 3. 分数表示(\\frac{分子}{分母})"
   ]
  },
  {
   "cell_type": "markdown",
   "metadata": {},
   "source": [
    "$\\frac{11}{12}$ , $\\frac{a}{b}$ , $\\frac{x^2}{y_1}$"
   ]
  },
  {
   "cell_type": "markdown",
   "metadata": {},
   "source": [
    "##### 4. 根式（\\sqrt[n]{表达式}）"
   ]
  },
  {
   "cell_type": "markdown",
   "metadata": {},
   "source": [
    "$\\sqrt{2}$ , $\\sqrt[3]{8}$ , $\\sqrt[x]{x+y+z_1}$"
   ]
  },
  {
   "cell_type": "markdown",
   "metadata": {},
   "source": [
    "##### 5. 求和（\\sum ,其中可选参数\\limits可以改变上下标为上下行，缺省为\\nolimits）"
   ]
  },
  {
   "cell_type": "markdown",
   "metadata": {},
   "source": [
    "$\\sum\\limits_{n=1}^n k=\\frac{n(n+1)}{2}$ ， $\\sum_{a}^{a=b}=ax+b$"
   ]
  },
  {
   "cell_type": "markdown",
   "metadata": {},
   "source": [
    "##### 6. 求导（偏微分符号\\partial）、极限"
   ]
  },
  {
   "cell_type": "markdown",
   "metadata": {},
   "source": [
    "$\\frac{\\partial u}{\\partial t}$ ， $\\lim\\limits_{x\\rightarrow0}{\\frac{3x^2+7x^4}{x^2+5x^3}}=3$ ， $\\lim\\limits_{x \\to +\\infty}$ , $\\lim\\limits_{x\\rightarrow+\\infty}$\n"
   ]
  },
  {
   "cell_type": "markdown",
   "metadata": {},
   "source": [
    "##### 7. 积分（\\int）"
   ]
  },
  {
   "cell_type": "markdown",
   "metadata": {},
   "source": [
    "$\\int_0^{+\\infty}\\cos\\theta d\\theta=\\sin\\theta$"
   ]
  },
  {
   "cell_type": "markdown",
   "metadata": {},
   "source": [
    "##### 8. 矩阵，行之间用\\\\分隔，列之间用&分隔\n",
    "    1. 数组形式(\\begin{array}{c|l|r} \\end{array}) ，其中clr为对齐方式，分别对应：居中，左对齐，右对齐\n",
    "    2. 矩阵{matrix}的形式，可用的为matrix,pmatrix,bmatrix,Bmatrix,vmatrix,Vmatrix，区别在于最外层的包装符号不同"
   ]
  },
  {
   "cell_type": "markdown",
   "metadata": {},
   "source": [
    "$\\left(\\begin{array}{ccc} a&b&c\\\\ d&e&f \\\\ g&h&i \\end{array}\\right)$ , \n",
    "$\\left\\{\\begin{array}{rrr}1&2&3 \\\\ 4&5&6 \\\\ 7&8&9\\end{array}\\right\\}$,\n",
    "$\\begin{matrix}0&1\\\\0&2\\end{matrix}$，$\\begin{bmatrix}3&4\\\\5&6\\end{bmatrix}$"
   ]
  },
  {
   "cell_type": "markdown",
   "metadata": {},
   "source": [
    "##### 附录 ： 各种数学及希腊符号\n",
    "https://www.sharelatex.com/learn/List_of_Greek_letters_and_math_symbols"
   ]
  }
 ],
 "metadata": {
  "kernelspec": {
   "display_name": "Python 2",
   "language": "python",
   "name": "python2"
  },
  "language_info": {
   "codemirror_mode": {
    "name": "ipython",
    "version": 2
   },
   "file_extension": ".py",
   "mimetype": "text/x-python",
   "name": "python",
   "nbconvert_exporter": "python",
   "pygments_lexer": "ipython2",
   "version": "2.7.12"
  }
 },
 "nbformat": 4,
 "nbformat_minor": 2
}
