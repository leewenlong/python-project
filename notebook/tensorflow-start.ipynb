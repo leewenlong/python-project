{
 "cells": [
  {
   "cell_type": "markdown",
   "metadata": {},
   "source": [
    "## tensorflow 基本运行流程如下所示，其他的都是在此流程上添加"
   ]
  },
  {
   "cell_type": "code",
   "execution_count": 1,
   "metadata": {},
   "outputs": [
    {
     "name": "stdout",
     "output_type": "stream",
     "text": [
      "[3 7]\n"
     ]
    }
   ],
   "source": [
    "import tensorflow as tf #1. 导入包\n",
    "\n",
    "a = tf.constant([1,3],name='a')#2. 定义变量\n",
    "b = tf.constant([2,4],name='b')\n",
    "\n",
    "result = a + b # 3.计算\n",
    "with tf.Session() as sess: #4. 创建session\n",
    "    sess.run(tf.initialize_all_variables()) #5. 初始化参数 （此步不能少，此示例变量都已初始化可以不加此句）\n",
    "    print sess.run(result) #6. 运行得到结果"
   ]
  },
  {
   "cell_type": "markdown",
   "metadata": {},
   "source": [
    "tf中session的使用有三种方法，以上是其中的一种,示例中都使用了with关键词，可以不使用，如果是单独创建的方式，要注意用完session后关闭"
   ]
  },
  {
   "cell_type": "code",
   "execution_count": 2,
   "metadata": {},
   "outputs": [
    {
     "name": "stdout",
     "output_type": "stream",
     "text": [
      "[3 7]\n"
     ]
    }
   ],
   "source": [
    "# 方法二\n",
    "with tf.Session().as_default():\n",
    "    print result.eval()"
   ]
  },
  {
   "cell_type": "code",
   "execution_count": 3,
   "metadata": {},
   "outputs": [
    {
     "name": "stdout",
     "output_type": "stream",
     "text": [
      "[3 7]\n"
     ]
    }
   ],
   "source": [
    "# 方法三\n",
    "with tf.Session() as sess:\n",
    "    print result.eval(session=sess)"
   ]
  },
  {
   "cell_type": "code",
   "execution_count": null,
   "metadata": {},
   "outputs": [],
   "source": []
  }
 ],
 "metadata": {
  "kernelspec": {
   "display_name": "Python 2",
   "language": "python",
   "name": "python2"
  },
  "language_info": {
   "codemirror_mode": {
    "name": "ipython",
    "version": 2
   },
   "file_extension": ".py",
   "mimetype": "text/x-python",
   "name": "python",
   "nbconvert_exporter": "python",
   "pygments_lexer": "ipython2",
   "version": "2.7.12"
  }
 },
 "nbformat": 4,
 "nbformat_minor": 2
}
